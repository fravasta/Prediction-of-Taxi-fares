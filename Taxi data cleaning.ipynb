{
 "cells": [
  {
   "cell_type": "code",
   "execution_count": 73,
   "metadata": {},
   "outputs": [
    {
     "name": "stdout",
     "output_type": "stream",
     "text": [
      "Path to dataset files: /Users/francescavasta/.cache/kagglehub/datasets/denkuznetz/taxi-price-prediction/versions/1\n",
      "Files in dataset: ['taxi_trip_pricing.csv']\n"
     ]
    }
   ],
   "source": [
    "import kagglehub\n",
    "import os\n",
    "\n",
    "# Download latest version\n",
    "path = kagglehub.dataset_download(\"denkuznetz/taxi-price-prediction\")\n",
    "\n",
    "print(\"Path to dataset files:\", path)\n",
    "\n",
    "# obtain the names of the files in the downloaded folder\n",
    "files = os.listdir(path)\n",
    "print(\"Files in dataset:\", files)"
   ]
  },
  {
   "cell_type": "code",
   "execution_count": 74,
   "metadata": {},
   "outputs": [
    {
     "data": {
      "text/html": [
       "<div>\n",
       "<style scoped>\n",
       "    .dataframe tbody tr th:only-of-type {\n",
       "        vertical-align: middle;\n",
       "    }\n",
       "\n",
       "    .dataframe tbody tr th {\n",
       "        vertical-align: top;\n",
       "    }\n",
       "\n",
       "    .dataframe thead th {\n",
       "        text-align: right;\n",
       "    }\n",
       "</style>\n",
       "<table border=\"1\" class=\"dataframe\">\n",
       "  <thead>\n",
       "    <tr style=\"text-align: right;\">\n",
       "      <th></th>\n",
       "      <th>Trip_Distance_km</th>\n",
       "      <th>Time_of_Day</th>\n",
       "      <th>Day_of_Week</th>\n",
       "      <th>Passenger_Count</th>\n",
       "      <th>Traffic_Conditions</th>\n",
       "      <th>Weather</th>\n",
       "      <th>Base_Fare</th>\n",
       "      <th>Per_Km_Rate</th>\n",
       "      <th>Per_Minute_Rate</th>\n",
       "      <th>Trip_Duration_Minutes</th>\n",
       "      <th>Trip_Price</th>\n",
       "    </tr>\n",
       "  </thead>\n",
       "  <tbody>\n",
       "    <tr>\n",
       "      <th>0</th>\n",
       "      <td>19.35</td>\n",
       "      <td>Morning</td>\n",
       "      <td>Weekday</td>\n",
       "      <td>3.0</td>\n",
       "      <td>Low</td>\n",
       "      <td>Clear</td>\n",
       "      <td>3.56</td>\n",
       "      <td>0.80</td>\n",
       "      <td>0.32</td>\n",
       "      <td>53.82</td>\n",
       "      <td>36.2624</td>\n",
       "    </tr>\n",
       "    <tr>\n",
       "      <th>1</th>\n",
       "      <td>47.59</td>\n",
       "      <td>Afternoon</td>\n",
       "      <td>Weekday</td>\n",
       "      <td>1.0</td>\n",
       "      <td>High</td>\n",
       "      <td>Clear</td>\n",
       "      <td>NaN</td>\n",
       "      <td>0.62</td>\n",
       "      <td>0.43</td>\n",
       "      <td>40.57</td>\n",
       "      <td>NaN</td>\n",
       "    </tr>\n",
       "    <tr>\n",
       "      <th>2</th>\n",
       "      <td>36.87</td>\n",
       "      <td>Evening</td>\n",
       "      <td>Weekend</td>\n",
       "      <td>1.0</td>\n",
       "      <td>High</td>\n",
       "      <td>Clear</td>\n",
       "      <td>2.70</td>\n",
       "      <td>1.21</td>\n",
       "      <td>0.15</td>\n",
       "      <td>37.27</td>\n",
       "      <td>52.9032</td>\n",
       "    </tr>\n",
       "    <tr>\n",
       "      <th>3</th>\n",
       "      <td>30.33</td>\n",
       "      <td>Evening</td>\n",
       "      <td>Weekday</td>\n",
       "      <td>4.0</td>\n",
       "      <td>Low</td>\n",
       "      <td>NaN</td>\n",
       "      <td>3.48</td>\n",
       "      <td>0.51</td>\n",
       "      <td>0.15</td>\n",
       "      <td>116.81</td>\n",
       "      <td>36.4698</td>\n",
       "    </tr>\n",
       "    <tr>\n",
       "      <th>4</th>\n",
       "      <td>NaN</td>\n",
       "      <td>Evening</td>\n",
       "      <td>Weekday</td>\n",
       "      <td>3.0</td>\n",
       "      <td>High</td>\n",
       "      <td>Clear</td>\n",
       "      <td>2.93</td>\n",
       "      <td>0.63</td>\n",
       "      <td>0.32</td>\n",
       "      <td>22.64</td>\n",
       "      <td>15.6180</td>\n",
       "    </tr>\n",
       "  </tbody>\n",
       "</table>\n",
       "</div>"
      ],
      "text/plain": [
       "   Trip_Distance_km Time_of_Day Day_of_Week  Passenger_Count  \\\n",
       "0             19.35     Morning     Weekday              3.0   \n",
       "1             47.59   Afternoon     Weekday              1.0   \n",
       "2             36.87     Evening     Weekend              1.0   \n",
       "3             30.33     Evening     Weekday              4.0   \n",
       "4               NaN     Evening     Weekday              3.0   \n",
       "\n",
       "  Traffic_Conditions Weather  Base_Fare  Per_Km_Rate  Per_Minute_Rate  \\\n",
       "0                Low   Clear       3.56         0.80             0.32   \n",
       "1               High   Clear        NaN         0.62             0.43   \n",
       "2               High   Clear       2.70         1.21             0.15   \n",
       "3                Low     NaN       3.48         0.51             0.15   \n",
       "4               High   Clear       2.93         0.63             0.32   \n",
       "\n",
       "   Trip_Duration_Minutes  Trip_Price  \n",
       "0                  53.82     36.2624  \n",
       "1                  40.57         NaN  \n",
       "2                  37.27     52.9032  \n",
       "3                 116.81     36.4698  \n",
       "4                  22.64     15.6180  "
      ]
     },
     "execution_count": 74,
     "metadata": {},
     "output_type": "execute_result"
    }
   ],
   "source": [
    "import pandas as pd\n",
    "\n",
    "df_taxi = pd.read_csv(\"/Users/francescavasta/.cache/kagglehub/datasets/denkuznetz/taxi-price-prediction/versions/1/taxi_trip_pricing.csv\")\n",
    "df_taxi.head()\n"
   ]
  },
  {
   "cell_type": "code",
   "execution_count": 75,
   "metadata": {},
   "outputs": [
    {
     "name": "stdout",
     "output_type": "stream",
     "text": [
      "(1000, 11)\n",
      "<class 'pandas.core.frame.DataFrame'>\n",
      "RangeIndex: 1000 entries, 0 to 999\n",
      "Data columns (total 11 columns):\n",
      " #   Column                 Non-Null Count  Dtype  \n",
      "---  ------                 --------------  -----  \n",
      " 0   Trip_Distance_km       950 non-null    float64\n",
      " 1   Time_of_Day            950 non-null    object \n",
      " 2   Day_of_Week            950 non-null    object \n",
      " 3   Passenger_Count        950 non-null    float64\n",
      " 4   Traffic_Conditions     950 non-null    object \n",
      " 5   Weather                950 non-null    object \n",
      " 6   Base_Fare              950 non-null    float64\n",
      " 7   Per_Km_Rate            950 non-null    float64\n",
      " 8   Per_Minute_Rate        950 non-null    float64\n",
      " 9   Trip_Duration_Minutes  950 non-null    float64\n",
      " 10  Trip_Price             951 non-null    float64\n",
      "dtypes: float64(7), object(4)\n",
      "memory usage: 86.1+ KB\n"
     ]
    }
   ],
   "source": [
    "print(df_taxi.shape)\n",
    "df_taxi.info()"
   ]
  },
  {
   "cell_type": "code",
   "execution_count": 76,
   "metadata": {},
   "outputs": [
    {
     "data": {
      "text/html": [
       "<div>\n",
       "<style scoped>\n",
       "    .dataframe tbody tr th:only-of-type {\n",
       "        vertical-align: middle;\n",
       "    }\n",
       "\n",
       "    .dataframe tbody tr th {\n",
       "        vertical-align: top;\n",
       "    }\n",
       "\n",
       "    .dataframe thead th {\n",
       "        text-align: right;\n",
       "    }\n",
       "</style>\n",
       "<table border=\"1\" class=\"dataframe\">\n",
       "  <thead>\n",
       "    <tr style=\"text-align: right;\">\n",
       "      <th></th>\n",
       "      <th>Trip_Distance_km</th>\n",
       "      <th>Passenger_Count</th>\n",
       "      <th>Base_Fare</th>\n",
       "      <th>Per_Km_Rate</th>\n",
       "      <th>Per_Minute_Rate</th>\n",
       "      <th>Trip_Duration_Minutes</th>\n",
       "      <th>Trip_Price</th>\n",
       "    </tr>\n",
       "  </thead>\n",
       "  <tbody>\n",
       "    <tr>\n",
       "      <th>count</th>\n",
       "      <td>950.000000</td>\n",
       "      <td>950.000000</td>\n",
       "      <td>950.000000</td>\n",
       "      <td>950.000000</td>\n",
       "      <td>950.000000</td>\n",
       "      <td>950.000000</td>\n",
       "      <td>951.000000</td>\n",
       "    </tr>\n",
       "    <tr>\n",
       "      <th>mean</th>\n",
       "      <td>27.070547</td>\n",
       "      <td>2.476842</td>\n",
       "      <td>3.502989</td>\n",
       "      <td>1.233316</td>\n",
       "      <td>0.292916</td>\n",
       "      <td>62.118116</td>\n",
       "      <td>56.874773</td>\n",
       "    </tr>\n",
       "    <tr>\n",
       "      <th>std</th>\n",
       "      <td>19.905300</td>\n",
       "      <td>1.102249</td>\n",
       "      <td>0.870162</td>\n",
       "      <td>0.429816</td>\n",
       "      <td>0.115592</td>\n",
       "      <td>32.154406</td>\n",
       "      <td>40.469791</td>\n",
       "    </tr>\n",
       "    <tr>\n",
       "      <th>min</th>\n",
       "      <td>1.230000</td>\n",
       "      <td>1.000000</td>\n",
       "      <td>2.010000</td>\n",
       "      <td>0.500000</td>\n",
       "      <td>0.100000</td>\n",
       "      <td>5.010000</td>\n",
       "      <td>6.126900</td>\n",
       "    </tr>\n",
       "    <tr>\n",
       "      <th>25%</th>\n",
       "      <td>12.632500</td>\n",
       "      <td>1.250000</td>\n",
       "      <td>2.730000</td>\n",
       "      <td>0.860000</td>\n",
       "      <td>0.190000</td>\n",
       "      <td>35.882500</td>\n",
       "      <td>33.742650</td>\n",
       "    </tr>\n",
       "    <tr>\n",
       "      <th>50%</th>\n",
       "      <td>25.830000</td>\n",
       "      <td>2.000000</td>\n",
       "      <td>3.520000</td>\n",
       "      <td>1.220000</td>\n",
       "      <td>0.290000</td>\n",
       "      <td>61.860000</td>\n",
       "      <td>50.074500</td>\n",
       "    </tr>\n",
       "    <tr>\n",
       "      <th>75%</th>\n",
       "      <td>38.405000</td>\n",
       "      <td>3.000000</td>\n",
       "      <td>4.260000</td>\n",
       "      <td>1.610000</td>\n",
       "      <td>0.390000</td>\n",
       "      <td>89.055000</td>\n",
       "      <td>69.099350</td>\n",
       "    </tr>\n",
       "    <tr>\n",
       "      <th>max</th>\n",
       "      <td>146.067047</td>\n",
       "      <td>4.000000</td>\n",
       "      <td>5.000000</td>\n",
       "      <td>2.000000</td>\n",
       "      <td>0.500000</td>\n",
       "      <td>119.840000</td>\n",
       "      <td>332.043689</td>\n",
       "    </tr>\n",
       "  </tbody>\n",
       "</table>\n",
       "</div>"
      ],
      "text/plain": [
       "       Trip_Distance_km  Passenger_Count   Base_Fare  Per_Km_Rate  \\\n",
       "count        950.000000       950.000000  950.000000   950.000000   \n",
       "mean          27.070547         2.476842    3.502989     1.233316   \n",
       "std           19.905300         1.102249    0.870162     0.429816   \n",
       "min            1.230000         1.000000    2.010000     0.500000   \n",
       "25%           12.632500         1.250000    2.730000     0.860000   \n",
       "50%           25.830000         2.000000    3.520000     1.220000   \n",
       "75%           38.405000         3.000000    4.260000     1.610000   \n",
       "max          146.067047         4.000000    5.000000     2.000000   \n",
       "\n",
       "       Per_Minute_Rate  Trip_Duration_Minutes  Trip_Price  \n",
       "count       950.000000             950.000000  951.000000  \n",
       "mean          0.292916              62.118116   56.874773  \n",
       "std           0.115592              32.154406   40.469791  \n",
       "min           0.100000               5.010000    6.126900  \n",
       "25%           0.190000              35.882500   33.742650  \n",
       "50%           0.290000              61.860000   50.074500  \n",
       "75%           0.390000              89.055000   69.099350  \n",
       "max           0.500000             119.840000  332.043689  "
      ]
     },
     "execution_count": 76,
     "metadata": {},
     "output_type": "execute_result"
    }
   ],
   "source": [
    "df_taxi.describe()"
   ]
  },
  {
   "cell_type": "code",
   "execution_count": 77,
   "metadata": {},
   "outputs": [
    {
     "name": "stdout",
     "output_type": "stream",
     "text": [
      "Trip_Distance_km          396.220960\n",
      "Passenger_Count             1.214953\n",
      "Base_Fare                   0.757182\n",
      "Per_Km_Rate                 0.184742\n",
      "Per_Minute_Rate             0.013361\n",
      "Trip_Duration_Minutes    1033.905855\n",
      "Trip_Price               1637.803947\n",
      "dtype: float64\n"
     ]
    }
   ],
   "source": [
    "#df_taxi.var()\n",
    "\n",
    "# Choose only numeric\n",
    "numeric_df = df_taxi.select_dtypes(include=['float64'])\n",
    "print(numeric_df.var())"
   ]
  },
  {
   "cell_type": "code",
   "execution_count": 78,
   "metadata": {},
   "outputs": [
    {
     "name": "stdout",
     "output_type": "stream",
     "text": [
      "0    562\n",
      "1    341\n",
      "2     83\n",
      "3     14\n",
      "Name: count, dtype: int64\n"
     ]
    }
   ],
   "source": [
    "# Count NaN for each row\n",
    "na_counts = df_taxi.isna().sum(axis=1)\n",
    "\n",
    "# Count the distirbution of rows with specific values of NaN\n",
    "distribution = na_counts.value_counts().sort_index()\n",
    "\n",
    "# show\n",
    "print(distribution)"
   ]
  },
  {
   "cell_type": "code",
   "execution_count": 79,
   "metadata": {},
   "outputs": [
    {
     "data": {
      "text/plain": [
       "(986, 11)"
      ]
     },
     "execution_count": 79,
     "metadata": {},
     "output_type": "execute_result"
    }
   ],
   "source": [
    "df_taxi= df_taxi.dropna(axis=0, thresh=9)\n",
    "\n",
    "df_taxi.shape"
   ]
  },
  {
   "cell_type": "code",
   "execution_count": 80,
   "metadata": {},
   "outputs": [
    {
     "name": "stdout",
     "output_type": "stream",
     "text": [
      "Trip_Distance_km         47\n",
      "Time_of_Day              49\n",
      "Day_of_Week              43\n",
      "Passenger_Count          44\n",
      "Traffic_Conditions       47\n",
      "Weather                  46\n",
      "Base_Fare                48\n",
      "Per_Km_Rate              47\n",
      "Per_Minute_Rate          47\n",
      "Trip_Duration_Minutes    45\n",
      "Trip_Price               44\n",
      "dtype: int64\n"
     ]
    }
   ],
   "source": [
    "print(df_taxi.isna().sum())"
   ]
  },
  {
   "cell_type": "code",
   "execution_count": 81,
   "metadata": {},
   "outputs": [
    {
     "data": {
      "text/html": [
       "<div>\n",
       "<style scoped>\n",
       "    .dataframe tbody tr th:only-of-type {\n",
       "        vertical-align: middle;\n",
       "    }\n",
       "\n",
       "    .dataframe tbody tr th {\n",
       "        vertical-align: top;\n",
       "    }\n",
       "\n",
       "    .dataframe thead th {\n",
       "        text-align: right;\n",
       "    }\n",
       "</style>\n",
       "<table border=\"1\" class=\"dataframe\">\n",
       "  <thead>\n",
       "    <tr style=\"text-align: right;\">\n",
       "      <th></th>\n",
       "      <th>Trip_Distance_km</th>\n",
       "      <th>Passenger_Count</th>\n",
       "      <th>Base_Fare</th>\n",
       "      <th>Per_Km_Rate</th>\n",
       "      <th>Per_Minute_Rate</th>\n",
       "      <th>Trip_Duration_Minutes</th>\n",
       "      <th>Trip_Price</th>\n",
       "    </tr>\n",
       "  </thead>\n",
       "  <tbody>\n",
       "    <tr>\n",
       "      <th>count</th>\n",
       "      <td>939.000000</td>\n",
       "      <td>942.000000</td>\n",
       "      <td>938.000000</td>\n",
       "      <td>939.000000</td>\n",
       "      <td>939.000000</td>\n",
       "      <td>941.000000</td>\n",
       "      <td>942.000000</td>\n",
       "    </tr>\n",
       "    <tr>\n",
       "      <th>mean</th>\n",
       "      <td>27.135015</td>\n",
       "      <td>2.469214</td>\n",
       "      <td>3.500522</td>\n",
       "      <td>1.234888</td>\n",
       "      <td>0.292662</td>\n",
       "      <td>62.145834</td>\n",
       "      <td>56.899296</td>\n",
       "    </tr>\n",
       "    <tr>\n",
       "      <th>std</th>\n",
       "      <td>19.969688</td>\n",
       "      <td>1.102893</td>\n",
       "      <td>0.869755</td>\n",
       "      <td>0.429473</td>\n",
       "      <td>0.115753</td>\n",
       "      <td>32.159094</td>\n",
       "      <td>40.594936</td>\n",
       "    </tr>\n",
       "    <tr>\n",
       "      <th>min</th>\n",
       "      <td>1.230000</td>\n",
       "      <td>1.000000</td>\n",
       "      <td>2.010000</td>\n",
       "      <td>0.500000</td>\n",
       "      <td>0.100000</td>\n",
       "      <td>5.010000</td>\n",
       "      <td>6.126900</td>\n",
       "    </tr>\n",
       "    <tr>\n",
       "      <th>25%</th>\n",
       "      <td>12.635000</td>\n",
       "      <td>1.000000</td>\n",
       "      <td>2.730000</td>\n",
       "      <td>0.860000</td>\n",
       "      <td>0.190000</td>\n",
       "      <td>35.890000</td>\n",
       "      <td>33.739425</td>\n",
       "    </tr>\n",
       "    <tr>\n",
       "      <th>50%</th>\n",
       "      <td>26.030000</td>\n",
       "      <td>2.000000</td>\n",
       "      <td>3.510000</td>\n",
       "      <td>1.220000</td>\n",
       "      <td>0.290000</td>\n",
       "      <td>61.930000</td>\n",
       "      <td>50.096200</td>\n",
       "    </tr>\n",
       "    <tr>\n",
       "      <th>75%</th>\n",
       "      <td>38.695000</td>\n",
       "      <td>3.000000</td>\n",
       "      <td>4.247500</td>\n",
       "      <td>1.610000</td>\n",
       "      <td>0.390000</td>\n",
       "      <td>88.770000</td>\n",
       "      <td>68.994025</td>\n",
       "    </tr>\n",
       "    <tr>\n",
       "      <th>max</th>\n",
       "      <td>146.067047</td>\n",
       "      <td>4.000000</td>\n",
       "      <td>5.000000</td>\n",
       "      <td>2.000000</td>\n",
       "      <td>0.500000</td>\n",
       "      <td>119.840000</td>\n",
       "      <td>332.043689</td>\n",
       "    </tr>\n",
       "  </tbody>\n",
       "</table>\n",
       "</div>"
      ],
      "text/plain": [
       "       Trip_Distance_km  Passenger_Count   Base_Fare  Per_Km_Rate  \\\n",
       "count        939.000000       942.000000  938.000000   939.000000   \n",
       "mean          27.135015         2.469214    3.500522     1.234888   \n",
       "std           19.969688         1.102893    0.869755     0.429473   \n",
       "min            1.230000         1.000000    2.010000     0.500000   \n",
       "25%           12.635000         1.000000    2.730000     0.860000   \n",
       "50%           26.030000         2.000000    3.510000     1.220000   \n",
       "75%           38.695000         3.000000    4.247500     1.610000   \n",
       "max          146.067047         4.000000    5.000000     2.000000   \n",
       "\n",
       "       Per_Minute_Rate  Trip_Duration_Minutes  Trip_Price  \n",
       "count       939.000000             941.000000  942.000000  \n",
       "mean          0.292662              62.145834   56.899296  \n",
       "std           0.115753              32.159094   40.594936  \n",
       "min           0.100000               5.010000    6.126900  \n",
       "25%           0.190000              35.890000   33.739425  \n",
       "50%           0.290000              61.930000   50.096200  \n",
       "75%           0.390000              88.770000   68.994025  \n",
       "max           0.500000             119.840000  332.043689  "
      ]
     },
     "execution_count": 81,
     "metadata": {},
     "output_type": "execute_result"
    }
   ],
   "source": [
    "df_taxi.describe()\n"
   ]
  },
  {
   "cell_type": "code",
   "execution_count": 82,
   "metadata": {},
   "outputs": [
    {
     "name": "stdout",
     "output_type": "stream",
     "text": [
      "Trip_Distance_km          398.788423\n",
      "Passenger_Count             1.216373\n",
      "Base_Fare                   0.756473\n",
      "Per_Km_Rate                 0.184447\n",
      "Per_Minute_Rate             0.013399\n",
      "Trip_Duration_Minutes    1034.207336\n",
      "Trip_Price               1647.948853\n",
      "dtype: float64\n"
     ]
    }
   ],
   "source": [
    "#df_taxi.var()\n",
    "numeric_df = df_taxi.select_dtypes(include=['float64'])\n",
    "print(numeric_df.var())"
   ]
  },
  {
   "cell_type": "code",
   "execution_count": 83,
   "metadata": {},
   "outputs": [
    {
     "data": {
      "image/png": "[encoded data removed]",
      "text/plain": [
       "<Figure size 1000x800 with 2 Axes>"
      ]
     },
     "metadata": {},
     "output_type": "display_data"
    }
   ],
   "source": [
    "# plot correlatin matrix\n",
    "import matplotlib.pyplot as plt\n",
    "import seaborn as sns\n",
    "correlation_matrix = numeric_df.corr()\n",
    "\n",
    "# show the matrix\n",
    "plt.figure(figsize=(10, 8))\n",
    "sns.heatmap(correlation_matrix, annot=True, cmap='coolwarm', fmt='.2f')\n",
    "plt.title(\"Correlation Matrix\")\n",
    "plt.show()\n"
   ]
  },
  {
   "cell_type": "code",
   "execution_count": 84,
   "metadata": {},
   "outputs": [
    {
     "data": {
      "image/png": "[encoded data removed]",
      "text/plain": [
       "<Figure size 640x480 with 1 Axes>"
      ]
     },
     "metadata": {},
     "output_type": "display_data"
    },
    {
     "data": {
      "image/png": "[encoded data removed]",
      "text/plain": [
       "<Figure size 640x480 with 1 Axes>"
      ]
     },
     "metadata": {},
     "output_type": "display_data"
    },
    {
     "data": {
      "image/png": "[encoded data removed]",
      "text/plain": [
       "<Figure size 640x480 with 1 Axes>"
      ]
     },
     "metadata": {},
     "output_type": "display_data"
    },
    {
     "data": {
      "image/png": "[encoded data removed]",
      "text/plain": [
       "<Figure size 640x480 with 1 Axes>"
      ]
     },
     "metadata": {},
     "output_type": "display_data"
    },
    {
     "data": {
      "image/png": "[encoded data removed]",
      "text/plain": [
       "<Figure size 640x480 with 1 Axes>"
      ]
     },
     "metadata": {},
     "output_type": "display_data"
    },
    {
     "data": {
      "image/png": "[encoded data removed]",
      "text/plain": [
       "<Figure size 640x480 with 1 Axes>"
      ]
     },
     "metadata": {},
     "output_type": "display_data"
    },
    {
     "data": {
      "image/png": "[encoded data removed]",
      "text/plain": [
       "<Figure size 640x480 with 1 Axes>"
      ]
     },
     "metadata": {},
     "output_type": "display_data"
    }
   ],
   "source": [
    "# For a numerical column like 'Price'\n",
    "quantitative_columns = ['Trip_Distance_km', 'Passenger_Count','Base_Fare','Per_Km_Rate','Per_Minute_Rate','Trip_Duration_Minutes','Trip_Price']\n",
    "\n",
    "for column in quantitative_columns:\n",
    "    sns.boxplot(x=df_taxi[column])\n",
    "    plt.show()\n"
   ]
  },
  {
   "cell_type": "code",
   "execution_count": 85,
   "metadata": {},
   "outputs": [
    {
     "name": "stdout",
     "output_type": "stream",
     "text": [
      "Skewness of 'Trip_Distance_km': 2.232845430397109\n",
      "Skewness of 'Trip_Price': 3.7319830187769125\n",
      "Skewness of 'Trip_Duration_Minutes': 0.018308926471987792\n"
     ]
    }
   ],
   "source": [
    "# Check skewness for the relevant variables\n",
    "skew_distance = df_taxi['Trip_Distance_km'].skew()\n",
    "skew_price = df_taxi['Trip_Price'].skew()\n",
    "skew_duration = df_taxi['Trip_Duration_Minutes'].skew()#we check also this variable because it has high variance\n",
    "\n",
    "print(f\"Skewness of 'Trip_Distance_km': {skew_distance}\")\n",
    "print(f\"Skewness of 'Trip_Price': {skew_price}\")\n",
    "print(f\"Skewness of 'Trip_Duration_Minutes': {skew_duration}\")\n",
    "\n",
    "#if the skewness is higher than 1, then we should apply log_transformation"
   ]
  },
  {
   "cell_type": "code",
   "execution_count": 86,
   "metadata": {},
   "outputs": [
    {
     "data": {
      "text/plain": [
       "Trip_Distance_km          398.788423\n",
       "Passenger_Count             1.216373\n",
       "Base_Fare                   0.756473\n",
       "Per_Km_Rate                 0.184447\n",
       "Per_Minute_Rate             0.013399\n",
       "Trip_Duration_Minutes    1034.207336\n",
       "Trip_Price               1647.948853\n",
       "dtype: float64"
      ]
     },
     "execution_count": 86,
     "metadata": {},
     "output_type": "execute_result"
    }
   ],
   "source": [
    "import numpy as np\n",
    "\n",
    "#applying log_transformation\n",
    "df_taxi['Trip_Distance_km_log'] = np.log1p(df_taxi['Trip_Distance_km'])\n",
    "df_taxi['Trip_Price_log'] = np.log1p(df_taxi['Trip_Price'])\n",
    "\n",
    "#checking variance again\n",
    "#df_taxi.var()\n",
    "numeric_df.var()\n",
    "\n",
    "\n"
   ]
  },
  {
   "cell_type": "code",
   "execution_count": 87,
   "metadata": {},
   "outputs": [
    {
     "data": {
      "image/png": "[encoded data removed]",
      "text/plain": [
       "<Figure size 640x480 with 1 Axes>"
      ]
     },
     "metadata": {},
     "output_type": "display_data"
    },
    {
     "data": {
      "image/png": "[encoded data removed]",
      "text/plain": [
       "<Figure size 640x480 with 1 Axes>"
      ]
     },
     "metadata": {},
     "output_type": "display_data"
    },
    {
     "data": {
      "image/png": "[encoded data removed]",
      "text/plain": [
       "<Figure size 640x480 with 1 Axes>"
      ]
     },
     "metadata": {},
     "output_type": "display_data"
    },
    {
     "data": {
      "image/png": "[encoded data removed]",
      "text/plain": [
       "<Figure size 640x480 with 1 Axes>"
      ]
     },
     "metadata": {},
     "output_type": "display_data"
    }
   ],
   "source": [
    "## CHECKING BOX PLOTS AGAIN\n",
    "# For a numerical column like 'Price'\n",
    "quantitative_columns = ['Trip_Distance_km', 'Trip_Distance_km_log', 'Trip_Price', 'Trip_Price_log']\n",
    "\n",
    "for column in quantitative_columns:\n",
    "    sns.boxplot(x=df_taxi[column])\n",
    "    plt.show()"
   ]
  },
  {
   "cell_type": "markdown",
   "metadata": {},
   "source": [
    "## Small analysis of categorical variable distribution"
   ]
  },
  {
   "cell_type": "code",
   "execution_count": 88,
   "metadata": {},
   "outputs": [
    {
     "name": "stdout",
     "output_type": "stream",
     "text": [
      "Values for Time_of_Day are: ['Morning' 'Afternoon' 'Evening' 'Night']\n",
      "Values for Day_of_Week are: ['Weekday' 'Weekend']\n",
      "Values for Traffic_Conditions are: ['Low' 'High' 'Medium']\n",
      "Values for Weather are: ['Clear' 'Rain' 'Snow']\n"
     ]
    }
   ],
   "source": [
    "categorical_columns = ['Time_of_Day', 'Day_of_Week', 'Traffic_Conditions', 'Weather']\n",
    "\n",
    "for i in categorical_columns:\n",
    "    print(f'Values for {i} are: {df_taxi[i].dropna().unique()}')\n"
   ]
  },
  {
   "cell_type": "code",
   "execution_count": 89,
   "metadata": {},
   "outputs": [
    {
     "name": "stdout",
     "output_type": "stream",
     "text": [
      " Value occurrencies for Time_of_Day: \n",
      "          Time_of_Day\n",
      "Afternoon    367\n",
      "Morning      277\n",
      "Evening      200\n",
      "Night         93\n",
      "NaN           49\n",
      "Name: count, dtype: int64\n",
      " Value occurrencies for Day_of_Week: \n",
      "          Day_of_Week\n",
      "Weekday    650\n",
      "Weekend    293\n",
      "NaN         43\n",
      "Name: count, dtype: int64\n",
      " Value occurrencies for Traffic_Conditions: \n",
      "          Traffic_Conditions\n",
      "Low       390\n",
      "Medium    367\n",
      "High      182\n",
      "NaN        47\n",
      "Name: count, dtype: int64\n",
      " Value occurrencies for Weather: \n",
      "          Weather\n",
      "Clear    659\n",
      "Rain     225\n",
      "Snow      56\n",
      "NaN       46\n",
      "Name: count, dtype: int64\n"
     ]
    }
   ],
   "source": [
    "for i in categorical_columns:\n",
    "    print(f''' Value occurrencies for {i}: \n",
    "          {df_taxi[i].value_counts(dropna=False)}''')"
   ]
  },
  {
   "cell_type": "code",
   "execution_count": 90,
   "metadata": {},
   "outputs": [
    {
     "data": {
      "image/png": "[encoded data removed]",
      "text/plain": [
       "<Figure size 1000x800 with 4 Axes>"
      ]
     },
     "metadata": {},
     "output_type": "display_data"
    }
   ],
   "source": [
    "#Plot histograms for better visualization\n",
    "\n",
    "import matplotlib.pyplot as plt\n",
    "\n",
    "fig, axes = plt.subplots(2, 2, figsize=(10, 8))  # to show all graphs together\n",
    "axes = axes.flatten()\n",
    "\n",
    "for i,column in enumerate (categorical_columns):\n",
    "    value_counts= df_taxi[column].value_counts(dropna = False)\n",
    "\n",
    "    value_counts.index= value_counts.index.astype(str)\n",
    "\n",
    "    axes[i].bar(value_counts.index, value_counts.values)\n",
    "    axes[i].set_title(f'Value occurrences for {column}')\n",
    "    axes[i].set_xlabel(column)\n",
    "    axes[i].set_ylabel('Frequency')\n",
    "\n",
    "plt.tight_layout()\n",
    "\n",
    "plt.show()\n",
    "\n"
   ]
  },
  {
   "cell_type": "markdown",
   "metadata": {},
   "source": [
    "### FILLING NAs FOR QUANTITATIVE VARIABLES\n",
    "\n",
    "* filling 'Base_Fare' with the mean because it is **numerical** and **continous**\n",
    "* filling 'Passengers_Count' with the mode because it is **numerical** and **discrete**\n",
    "* filling 'Per_Minute_Rate' with the ratio between 'Trip_Price' / 'Trip_Duration_Minutes'\n",
    "* filling 'Per_Km_Rate' with the ratio between 'Trip_Price'/ 'Trip_Distance_km'\n",
    "* filling 'Trip_Duration_Minutes' with the ratio betwen 'Trip_Price'/ 'Per_Minute_Rate'\n",
    "* filling 'Trip_Distance_km' with the ratio between 'Trip_Price'/'Per_Km_Rate'\n",
    "* filling 'Trip_Price_km' with 2 possible products: \n",
    "1) 'Trip_Distance_km' * 'Per_Km_Rate'\n",
    "2) 'Trip_Duration_Minutes' * 'Per_Minute_Rate'\n"
   ]
  },
  {
   "cell_type": "code",
   "execution_count": 91,
   "metadata": {},
   "outputs": [
    {
     "name": "stderr",
     "output_type": "stream",
     "text": [
      "/var/folders/ls/mj9skg6x7j38ls1ncwhc9s400000gn/T/ipykernel_17865/959261483.py:4: FutureWarning: A value is trying to be set on a copy of a DataFrame or Series through chained assignment using an inplace method.\n",
      "The behavior will change in pandas 3.0. This inplace method will never work because the intermediate object on which we are setting values always behaves as a copy.\n",
      "\n",
      "For example, when doing 'df[col].method(value, inplace=True)', try using 'df.method({col: value}, inplace=True)' or df[col] = df[col].method(value) instead, to perform the operation inplace on the original object.\n",
      "\n",
      "\n",
      "  df_taxi['Base_Fare'].fillna(base_fare_mean, inplace=True)\n",
      "/var/folders/ls/mj9skg6x7j38ls1ncwhc9s400000gn/T/ipykernel_17865/959261483.py:9: FutureWarning: A value is trying to be set on a copy of a DataFrame or Series through chained assignment using an inplace method.\n",
      "The behavior will change in pandas 3.0. This inplace method will never work because the intermediate object on which we are setting values always behaves as a copy.\n",
      "\n",
      "For example, when doing 'df[col].method(value, inplace=True)', try using 'df.method({col: value}, inplace=True)' or df[col] = df[col].method(value) instead, to perform the operation inplace on the original object.\n",
      "\n",
      "\n",
      "  df_taxi['Passenger_Count'].fillna(passengers_mode, inplace= True )\n"
     ]
    }
   ],
   "source": [
    "# Compute the mean and store it as a variable\n",
    "base_fare_mean = df_taxi['Base_Fare'].mean()\n",
    "# fill the NaN in Base fare using that value\n",
    "df_taxi['Base_Fare'].fillna(base_fare_mean, inplace=True)\n",
    "\n",
    "\n",
    "#compute the mode of 'Passengers' and store it as a variable\n",
    "passengers_mode =df_taxi['Passenger_Count'].mode()[0]\n",
    "df_taxi['Passenger_Count'].fillna(passengers_mode, inplace= True )\n",
    "\n",
    "\n",
    "#df_taxi['Base_Fare'] = df_taxi['Base_Fare'].fillna(base_fare_mean)\n",
    "#df_taxi['Passenger_Count'] = df_taxi['Passenger_Count'].fillna(passengers_mode)"
   ]
  },
  {
   "cell_type": "code",
   "execution_count": 92,
   "metadata": {},
   "outputs": [
    {
     "name": "stdout",
     "output_type": "stream",
     "text": [
      "Trip_Distance_km         47\n",
      "Time_of_Day              49\n",
      "Day_of_Week              43\n",
      "Passenger_Count           0\n",
      "Traffic_Conditions       47\n",
      "Weather                  46\n",
      "Base_Fare                 0\n",
      "Per_Km_Rate              47\n",
      "Per_Minute_Rate          47\n",
      "Trip_Duration_Minutes    45\n",
      "Trip_Price               44\n",
      "Trip_Distance_km_log     47\n",
      "Trip_Price_log           44\n",
      "dtype: int64\n",
      "       Trip_Distance_km  Passenger_Count   Base_Fare  Per_Km_Rate  \\\n",
      "count        939.000000       986.000000  986.000000   939.000000   \n",
      "mean          27.135015         2.492901    3.500522     1.234888   \n",
      "std           19.969688         1.083541    0.848298     0.429473   \n",
      "min            1.230000         1.000000    2.010000     0.500000   \n",
      "25%           12.635000         2.000000    2.770000     0.860000   \n",
      "50%           26.030000         3.000000    3.500522     1.220000   \n",
      "75%           38.695000         3.000000    4.200000     1.610000   \n",
      "max          146.067047         4.000000    5.000000     2.000000   \n",
      "\n",
      "       Per_Minute_Rate  Trip_Duration_Minutes  Trip_Price  \\\n",
      "count       939.000000             941.000000  942.000000   \n",
      "mean          0.292662              62.145834   56.899296   \n",
      "std           0.115753              32.159094   40.594936   \n",
      "min           0.100000               5.010000    6.126900   \n",
      "25%           0.190000              35.890000   33.739425   \n",
      "50%           0.290000              61.930000   50.096200   \n",
      "75%           0.390000              88.770000   68.994025   \n",
      "max           0.500000             119.840000  332.043689   \n",
      "\n",
      "       Trip_Distance_km_log  Trip_Price_log  \n",
      "count            939.000000      942.000000  \n",
      "mean               3.072953        3.895427  \n",
      "std                0.797574        0.561186  \n",
      "min                0.802002        1.963876  \n",
      "25%                2.612640        3.547875  \n",
      "50%                3.296947        3.933710  \n",
      "75%                3.681225        4.248410  \n",
      "max                4.990889        5.808274  \n"
     ]
    }
   ],
   "source": [
    "#check \n",
    "\n",
    "print(df_taxi.isna().sum())\n",
    "print(df_taxi.describe())"
   ]
  },
  {
   "cell_type": "code",
   "execution_count": 93,
   "metadata": {},
   "outputs": [],
   "source": [
    "# Filling missing rates (Per_Minute_Rate)\n",
    "df_taxi['Per_Minute_Rate'] = df_taxi['Per_Minute_Rate'].fillna(\n",
    "    df_taxi.apply(lambda row: (row['Trip_Price'] / row['Passenger_Count']) / row['Trip_Duration_Minutes'] \n",
    "                  if pd.notnull(row['Trip_Price']) and pd.notnull (row['Passenger_Count']) and pd.notnull(row['Trip_Duration_Minutes']) \n",
    "                  else row['Per_Minute_Rate'], axis=1))\n",
    "\n",
    "\n",
    "# Filling missing rates (Per_Km_Rate)\n",
    "\n",
    "df_taxi['Per_Km_Rate'] = df_taxi['Per_Km_Rate'].fillna(\n",
    "    df_taxi.apply(lambda row: (row['Trip_Price'] / row['Passenger_Count'])/row ['Trip_Distance_km']\n",
    "                  if pd.notnull(row['Trip_Price']) and pd.notnull (row['Passenger_Count']) and pd.notnull(row['Trip_Distance_km'])\n",
    "                  else row['Per_Km_Rate'], axis =1))\n",
    "\n"
   ]
  },
  {
   "cell_type": "code",
   "execution_count": 94,
   "metadata": {},
   "outputs": [
    {
     "data": {
      "text/plain": [
       "Trip_Distance_km         47\n",
       "Time_of_Day              49\n",
       "Day_of_Week              43\n",
       "Passenger_Count           0\n",
       "Traffic_Conditions       47\n",
       "Weather                  46\n",
       "Base_Fare                 0\n",
       "Per_Km_Rate               5\n",
       "Per_Minute_Rate           2\n",
       "Trip_Duration_Minutes    45\n",
       "Trip_Price               44\n",
       "Trip_Distance_km_log     47\n",
       "Trip_Price_log           44\n",
       "dtype: int64"
      ]
     },
     "execution_count": 94,
     "metadata": {},
     "output_type": "execute_result"
    }
   ],
   "source": [
    "df_taxi.isna().sum()"
   ]
  },
  {
   "cell_type": "code",
   "execution_count": 95,
   "metadata": {},
   "outputs": [],
   "source": [
    "# Filling missing rates (Trip_Duration_Minutes)\n",
    "df_taxi['Trip_Duration_Minutes'] = df_taxi['Trip_Duration_Minutes'].fillna(\n",
    "    df_taxi.apply(lambda row: (row['Trip_Price'] / row['Passenger_Count']) / row['Per_Minute_Rate'] \n",
    "                  if pd.notnull(row['Trip_Price']) and pd.notnull (row['Passenger_Count']) and pd.notnull(row['Per_Minute_Rate']) \n",
    "                  else row['Trip_Duration_Minutes'], axis=1))\n",
    "\n",
    "\n",
    "# Filling missing rates (Trip_Distance_km)\n",
    "df_taxi['Trip_Distance_km'] = df_taxi['Trip_Distance_km'].fillna(\n",
    "    df_taxi.apply(lambda row: (row['Trip_Price'] / row['Passenger_Count'])/row ['Per_Km_Rate']\n",
    "                  if pd.notnull(row['Trip_Price']) and pd.notnull (row['Passenger_Count']) and pd.notnull(row['Per_Km_Rate'])\n",
    "                  else row['Trip_Distance_km'], axis =1))\n",
    "\n",
    "\n",
    "\n"
   ]
  },
  {
   "cell_type": "code",
   "execution_count": 96,
   "metadata": {},
   "outputs": [
    {
     "data": {
      "text/plain": [
       "Trip_Distance_km          1\n",
       "Time_of_Day              49\n",
       "Day_of_Week              43\n",
       "Passenger_Count           0\n",
       "Traffic_Conditions       47\n",
       "Weather                  46\n",
       "Base_Fare                 0\n",
       "Per_Km_Rate               5\n",
       "Per_Minute_Rate           2\n",
       "Trip_Duration_Minutes     4\n",
       "Trip_Price               44\n",
       "Trip_Distance_km_log     47\n",
       "Trip_Price_log           44\n",
       "dtype: int64"
      ]
     },
     "execution_count": 96,
     "metadata": {},
     "output_type": "execute_result"
    }
   ],
   "source": [
    "df_taxi.isna().sum()"
   ]
  },
  {
   "cell_type": "code",
   "execution_count": 97,
   "metadata": {},
   "outputs": [],
   "source": [
    "# Filling missing rates (Trip_Price) with Distance\n",
    "df_taxi['Trip_Price'] = df_taxi['Trip_Price'].fillna(\n",
    "    df_taxi.apply(lambda row: (row['Trip_Distance_km']*row ['Per_Km_Rate'])* row['Passenger_Count']\n",
    "                  if pd.notnull(row['Trip_Distance_km']) and pd.notnull (row['Passenger_Count']) and pd.notnull(row['Per_Km_Rate'])\n",
    "                  else row['Trip_Price'], axis =1))\n",
    "\n",
    "\n",
    "# Filling missing rates (Trip_Price) with Minutes\n",
    "df_taxi['Trip_Price'] = df_taxi['Trip_Price'].fillna(\n",
    "    df_taxi.apply(lambda row: (row['Trip_Duration_Minutes']*row ['Per_Minute_Rate']) * row['Passenger_Count']\n",
    "                  if pd.notnull(row['Trip_Duration_Minutes']) and pd.notnull (row['Passenger_Count']) and pd.notnull(row['Per_Minute_Rate'])\n",
    "                  else row['Trip_Price'], axis =1))"
   ]
  },
  {
   "cell_type": "code",
   "execution_count": 98,
   "metadata": {},
   "outputs": [
    {
     "data": {
      "text/plain": [
       "Trip_Distance_km          1\n",
       "Time_of_Day              49\n",
       "Day_of_Week              43\n",
       "Passenger_Count           0\n",
       "Traffic_Conditions       47\n",
       "Weather                  46\n",
       "Base_Fare                 0\n",
       "Per_Km_Rate               5\n",
       "Per_Minute_Rate           2\n",
       "Trip_Duration_Minutes     4\n",
       "Trip_Price                0\n",
       "Trip_Distance_km_log     47\n",
       "Trip_Price_log           44\n",
       "dtype: int64"
      ]
     },
     "execution_count": 98,
     "metadata": {},
     "output_type": "execute_result"
    }
   ],
   "source": [
    "df_taxi.isna().sum()"
   ]
  },
  {
   "cell_type": "code",
   "execution_count": 99,
   "metadata": {},
   "outputs": [],
   "source": [
    "# now that we have the Trip_Price, we try again filling all the remaining numerical Nas\n",
    "\n",
    "# Filling missing rates (Trip_Duration_Minutes)\n",
    "df_taxi['Trip_Duration_Minutes'] = df_taxi['Trip_Duration_Minutes'].fillna(\n",
    "    df_taxi.apply(lambda row: (row['Trip_Price'] / row['Passenger_Count']) / row['Per_Minute_Rate'] \n",
    "                  if pd.notnull(row['Trip_Price']) and pd.notnull (row['Passenger_Count']) and pd.notnull(row['Per_Minute_Rate']) \n",
    "                  else row['Trip_Duration_Minutes'], axis=1))\n",
    "\n",
    "\n",
    "# Filling missing rates (Trip_Distance_km)\n",
    "df_taxi['Trip_Distance_km'] = df_taxi['Trip_Distance_km'].fillna(\n",
    "    df_taxi.apply(lambda row: (row['Trip_Price'] / row['Passenger_Count'])/row ['Per_Km_Rate']\n",
    "                  if pd.notnull(row['Trip_Price']) and pd.notnull (row['Passenger_Count']) and pd.notnull(row['Per_Km_Rate'])\n",
    "                  else row['Trip_Distance_km'], axis =1))\n",
    "\n"
   ]
  },
  {
   "cell_type": "code",
   "execution_count": 100,
   "metadata": {},
   "outputs": [],
   "source": [
    "# Filling missing rates (Per_Minute_Rate)\n",
    "df_taxi['Per_Minute_Rate'] = df_taxi['Per_Minute_Rate'].fillna(\n",
    "    df_taxi.apply(lambda row: (row['Trip_Price'] / row['Passenger_Count']) / row['Trip_Duration_Minutes'] \n",
    "                  if pd.notnull(row['Trip_Price']) and pd.notnull (row['Passenger_Count']) and pd.notnull(row['Trip_Duration_Minutes']) \n",
    "                  else row['Per_Minute_Rate'], axis=1))\n",
    "\n",
    "\n",
    "# Filling missing rates (Per_Km_Rate)\n",
    "\n",
    "df_taxi['Per_Km_Rate'] = df_taxi['Per_Km_Rate'].fillna(\n",
    "    df_taxi.apply(lambda row: (row['Trip_Price'] / row['Passenger_Count'])/row ['Trip_Distance_km']\n",
    "                  if pd.notnull(row['Trip_Price']) and pd.notnull (row['Passenger_Count']) and pd.notnull(row['Trip_Distance_km'])\n",
    "                  else row['Per_Km_Rate'], axis =1))"
   ]
  },
  {
   "cell_type": "code",
   "execution_count": 101,
   "metadata": {},
   "outputs": [
    {
     "data": {
      "text/plain": [
       "Trip_Distance_km          398.788423\n",
       "Passenger_Count             1.216373\n",
       "Base_Fare                   0.756473\n",
       "Per_Km_Rate                 0.184447\n",
       "Per_Minute_Rate             0.013399\n",
       "Trip_Duration_Minutes    1034.207336\n",
       "Trip_Price               1647.948853\n",
       "dtype: float64"
      ]
     },
     "execution_count": 101,
     "metadata": {},
     "output_type": "execute_result"
    }
   ],
   "source": [
    "#applying AGAIN log_transformation\n",
    "df_taxi['Trip_Distance_km_log'] = np.log1p(df_taxi['Trip_Distance_km'])\n",
    "df_taxi['Trip_Price_log'] = np.log1p(df_taxi['Trip_Price'])\n",
    "\n",
    "#checking variance again\n",
    "numeric_df.var()\n"
   ]
  },
  {
   "cell_type": "code",
   "execution_count": 102,
   "metadata": {},
   "outputs": [
    {
     "data": {
      "text/plain": [
       "Trip_Distance_km          1\n",
       "Time_of_Day              49\n",
       "Day_of_Week              43\n",
       "Passenger_Count           0\n",
       "Traffic_Conditions       47\n",
       "Weather                  46\n",
       "Base_Fare                 0\n",
       "Per_Km_Rate               1\n",
       "Per_Minute_Rate           2\n",
       "Trip_Duration_Minutes     2\n",
       "Trip_Price                0\n",
       "Trip_Distance_km_log      1\n",
       "Trip_Price_log            0\n",
       "dtype: int64"
      ]
     },
     "execution_count": 102,
     "metadata": {},
     "output_type": "execute_result"
    }
   ],
   "source": [
    "df_taxi.isna().sum() #best we could do for QUANTITATIVE VARIABLES"
   ]
  },
  {
   "cell_type": "code",
   "execution_count": 103,
   "metadata": {},
   "outputs": [
    {
     "name": "stdout",
     "output_type": "stream",
     "text": [
      "0    806\n",
      "1    169\n",
      "2     10\n",
      "3      1\n",
      "Name: count, dtype: int64\n"
     ]
    }
   ],
   "source": [
    "# Count NaN for each row\n",
    "na_counts = df_taxi.isna().sum(axis=1)\n",
    "\n",
    "# Count the distirbution of rows with specific values of NaN\n",
    "distribution = na_counts.value_counts().sort_index()\n",
    "\n",
    "# show\n",
    "print(distribution)"
   ]
  },
  {
   "cell_type": "code",
   "execution_count": 104,
   "metadata": {},
   "outputs": [
    {
     "name": "stdout",
     "output_type": "stream",
     "text": [
      "Trip_Distance_km          0\n",
      "Time_of_Day              49\n",
      "Day_of_Week              43\n",
      "Passenger_Count           0\n",
      "Traffic_Conditions       47\n",
      "Weather                  46\n",
      "Base_Fare                 0\n",
      "Per_Km_Rate               0\n",
      "Per_Minute_Rate           0\n",
      "Trip_Duration_Minutes     0\n",
      "Trip_Price                0\n",
      "Trip_Distance_km_log      0\n",
      "Trip_Price_log            0\n",
      "dtype: int64\n"
     ]
    }
   ],
   "source": [
    "# Remove Columns with NaN in numerical variables\n",
    "numerical_columns = df_taxi.select_dtypes(include=['float64', 'int64']).columns\n",
    "\n",
    "# Remove NAs with NaN in numerical variables\n",
    "df_taxi = df_taxi.dropna(subset=numerical_columns)\n",
    "\n",
    "# Verify\n",
    "print(df_taxi.isnull().sum())\n"
   ]
  },
  {
   "cell_type": "markdown",
   "metadata": {},
   "source": [
    "### FILLING NAs for CATEGORICAL VARIABLES"
   ]
  },
  {
   "cell_type": "code",
   "execution_count": 105,
   "metadata": {},
   "outputs": [
    {
     "name": "stdout",
     "output_type": "stream",
     "text": [
      "<class 'pandas.core.frame.DataFrame'>\n",
      "Index: 983 entries, 0 to 999\n",
      "Data columns (total 13 columns):\n",
      " #   Column                 Non-Null Count  Dtype  \n",
      "---  ------                 --------------  -----  \n",
      " 0   Trip_Distance_km       983 non-null    float64\n",
      " 1   Time_of_Day            934 non-null    object \n",
      " 2   Day_of_Week            940 non-null    object \n",
      " 3   Passenger_Count        983 non-null    float64\n",
      " 4   Traffic_Conditions     936 non-null    object \n",
      " 5   Weather                937 non-null    object \n",
      " 6   Base_Fare              983 non-null    float64\n",
      " 7   Per_Km_Rate            983 non-null    float64\n",
      " 8   Per_Minute_Rate        983 non-null    float64\n",
      " 9   Trip_Duration_Minutes  983 non-null    float64\n",
      " 10  Trip_Price             983 non-null    float64\n",
      " 11  Trip_Distance_km_log   983 non-null    float64\n",
      " 12  Trip_Price_log         983 non-null    float64\n",
      "dtypes: float64(9), object(4)\n",
      "memory usage: 107.5+ KB\n"
     ]
    }
   ],
   "source": [
    "df_taxi.info()"
   ]
  },
  {
   "cell_type": "code",
   "execution_count": 106,
   "metadata": {},
   "outputs": [
    {
     "name": "stdout",
     "output_type": "stream",
     "text": [
      "                       Trip_Distance_km  Time_of_Day  Day_of_Week  \\\n",
      "Trip_Distance_km                    NaN          NaN          NaN   \n",
      "Time_of_Day                         NaN     1.000000    -0.048989   \n",
      "Day_of_Week                         NaN    -0.048989     1.000000   \n",
      "Passenger_Count                     NaN          NaN          NaN   \n",
      "Traffic_Conditions                  NaN    -0.029418    -0.047927   \n",
      "Weather                             NaN    -0.050750     0.070365   \n",
      "Base_Fare                           NaN          NaN          NaN   \n",
      "Per_Km_Rate                         NaN          NaN          NaN   \n",
      "Per_Minute_Rate                     NaN          NaN          NaN   \n",
      "Trip_Duration_Minutes               NaN          NaN          NaN   \n",
      "Trip_Price                          NaN          NaN          NaN   \n",
      "Trip_Distance_km_log                NaN          NaN          NaN   \n",
      "Trip_Price_log                      NaN          NaN          NaN   \n",
      "\n",
      "                       Passenger_Count  Traffic_Conditions   Weather  \\\n",
      "Trip_Distance_km                   NaN                 NaN       NaN   \n",
      "Time_of_Day                        NaN           -0.029418 -0.050750   \n",
      "Day_of_Week                        NaN           -0.047927  0.070365   \n",
      "Passenger_Count                    NaN                 NaN       NaN   \n",
      "Traffic_Conditions                 NaN            1.000000 -0.004501   \n",
      "Weather                            NaN           -0.004501  1.000000   \n",
      "Base_Fare                          NaN                 NaN       NaN   \n",
      "Per_Km_Rate                        NaN                 NaN       NaN   \n",
      "Per_Minute_Rate                    NaN                 NaN       NaN   \n",
      "Trip_Duration_Minutes              NaN                 NaN       NaN   \n",
      "Trip_Price                         NaN                 NaN       NaN   \n",
      "Trip_Distance_km_log               NaN                 NaN       NaN   \n",
      "Trip_Price_log                     NaN                 NaN       NaN   \n",
      "\n",
      "                       Base_Fare  Per_Km_Rate  Per_Minute_Rate  \\\n",
      "Trip_Distance_km             NaN          NaN              NaN   \n",
      "Time_of_Day                  NaN          NaN              NaN   \n",
      "Day_of_Week                  NaN          NaN              NaN   \n",
      "Passenger_Count              NaN          NaN              NaN   \n",
      "Traffic_Conditions           NaN          NaN              NaN   \n",
      "Weather                      NaN          NaN              NaN   \n",
      "Base_Fare                    NaN          NaN              NaN   \n",
      "Per_Km_Rate                  NaN          NaN              NaN   \n",
      "Per_Minute_Rate              NaN          NaN              NaN   \n",
      "Trip_Duration_Minutes        NaN          NaN              NaN   \n",
      "Trip_Price                   NaN          NaN              NaN   \n",
      "Trip_Distance_km_log         NaN          NaN              NaN   \n",
      "Trip_Price_log               NaN          NaN              NaN   \n",
      "\n",
      "                       Trip_Duration_Minutes  Trip_Price  \\\n",
      "Trip_Distance_km                         NaN         NaN   \n",
      "Time_of_Day                              NaN         NaN   \n",
      "Day_of_Week                              NaN         NaN   \n",
      "Passenger_Count                          NaN         NaN   \n",
      "Traffic_Conditions                       NaN         NaN   \n",
      "Weather                                  NaN         NaN   \n",
      "Base_Fare                                NaN         NaN   \n",
      "Per_Km_Rate                              NaN         NaN   \n",
      "Per_Minute_Rate                          NaN         NaN   \n",
      "Trip_Duration_Minutes                    NaN         NaN   \n",
      "Trip_Price                               NaN         NaN   \n",
      "Trip_Distance_km_log                     NaN         NaN   \n",
      "Trip_Price_log                           NaN         NaN   \n",
      "\n",
      "                       Trip_Distance_km_log  Trip_Price_log  \n",
      "Trip_Distance_km                        NaN             NaN  \n",
      "Time_of_Day                             NaN             NaN  \n",
      "Day_of_Week                             NaN             NaN  \n",
      "Passenger_Count                         NaN             NaN  \n",
      "Traffic_Conditions                      NaN             NaN  \n",
      "Weather                                 NaN             NaN  \n",
      "Base_Fare                               NaN             NaN  \n",
      "Per_Km_Rate                             NaN             NaN  \n",
      "Per_Minute_Rate                         NaN             NaN  \n",
      "Trip_Duration_Minutes                   NaN             NaN  \n",
      "Trip_Price                              NaN             NaN  \n",
      "Trip_Distance_km_log                    NaN             NaN  \n",
      "Trip_Price_log                          NaN             NaN  \n"
     ]
    }
   ],
   "source": [
    "# To verify our assumption that NaN are random, we can analyse the correlation between NaN in different columns\n",
    "# We heck whether the presence of NaN in one column correlates with the presence of NaN in other columns. \n",
    "# # This will help you identify any patterns in the rows.\n",
    "\n",
    "# create a boolean matrix to see where there are NaN\n",
    "nan_matrix = df_taxi.isna()\n",
    "\n",
    "# compute the correlation between columns with NaN\n",
    "nan_correlation = nan_matrix.corr()\n",
    "print(nan_correlation)\n"
   ]
  },
  {
   "cell_type": "markdown",
   "metadata": {},
   "source": [
    "Ti fill missing values we will use the **Mode** because NaN are distributed randomly"
   ]
  },
  {
   "cell_type": "code",
   "execution_count": 107,
   "metadata": {},
   "outputs": [
    {
     "name": "stdout",
     "output_type": "stream",
     "text": [
      "   Trip_Distance_km Time_of_Day Day_of_Week  Passenger_Count  \\\n",
      "0         19.350000     Morning     Weekday              3.0   \n",
      "1         47.590000   Afternoon     Weekday              1.0   \n",
      "2         36.870000     Evening     Weekend              1.0   \n",
      "3         30.330000     Evening     Weekday              4.0   \n",
      "4          8.263492     Evening     Weekday              3.0   \n",
      "\n",
      "  Traffic_Conditions Weather  Base_Fare  Per_Km_Rate  Per_Minute_Rate  \\\n",
      "0                Low   Clear   3.560000         0.80             0.32   \n",
      "1               High   Clear   3.500522         0.62             0.43   \n",
      "2               High   Clear   2.700000         1.21             0.15   \n",
      "3                Low   Clear   3.480000         0.51             0.15   \n",
      "4               High   Clear   2.930000         0.63             0.32   \n",
      "\n",
      "   Trip_Duration_Minutes  Trip_Price  Trip_Distance_km_log  Trip_Price_log  \n",
      "0                  53.82     36.2624              3.013081        3.617985  \n",
      "1                  40.57     29.5058              3.883418        3.417917  \n",
      "2                  37.27     52.9032              3.634159        3.987190  \n",
      "3                 116.81     36.4698              3.444576        3.623535  \n",
      "4                  22.64     15.6180              2.226081        2.810486  \n"
     ]
    },
    {
     "name": "stderr",
     "output_type": "stream",
     "text": [
      "/var/folders/ls/mj9skg6x7j38ls1ncwhc9s400000gn/T/ipykernel_17865/3827565119.py:6: FutureWarning: A value is trying to be set on a copy of a DataFrame or Series through chained assignment using an inplace method.\n",
      "The behavior will change in pandas 3.0. This inplace method will never work because the intermediate object on which we are setting values always behaves as a copy.\n",
      "\n",
      "For example, when doing 'df[col].method(value, inplace=True)', try using 'df.method({col: value}, inplace=True)' or df[col] = df[col].method(value) instead, to perform the operation inplace on the original object.\n",
      "\n",
      "\n",
      "  df_taxi[col].fillna(most_frequent, inplace=True)\n"
     ]
    }
   ],
   "source": [
    "categorical_columns = df_taxi.select_dtypes(include=['object']).columns\n",
    "\n",
    "# Fill NaN with the mode\n",
    "for col in categorical_columns:\n",
    "    most_frequent = df_taxi[col].mode()[0]  \n",
    "    df_taxi[col].fillna(most_frequent, inplace=True)  \n",
    "\n",
    "# show the result\n",
    "print(df_taxi.head())\n"
   ]
  },
  {
   "cell_type": "code",
   "execution_count": 108,
   "metadata": {},
   "outputs": [
    {
     "name": "stdout",
     "output_type": "stream",
     "text": [
      "0    983\n",
      "Name: count, dtype: int64\n"
     ]
    }
   ],
   "source": [
    "# Count NaN for each row\n",
    "na_counts = df_taxi.isna().sum(axis=1)\n",
    "\n",
    "# Count the distirbution of rows with specific values of NaN\n",
    "distribution = na_counts.value_counts().sort_index()\n",
    "\n",
    "# show\n",
    "print(distribution)"
   ]
  },
  {
   "cell_type": "code",
   "execution_count": 109,
   "metadata": {},
   "outputs": [],
   "source": [
    "df_taxi.to_csv('df_taxi_cleaned')"
   ]
  }
 ],
 "metadata": {
  "kernelspec": {
   "display_name": "base",
   "language": "python",
   "name": "python3"
  },
  "language_info": {
   "codemirror_mode": {
    "name": "ipython",
    "version": 3
   },
   "file_extension": ".py",
   "mimetype": "text/x-python",
   "name": "python",
   "nbconvert_exporter": "python",
   "pygments_lexer": "ipython3",
   "version": "3.12.7"
  }
 },
 "nbformat": 4,
 "nbformat_minor": 2
}
